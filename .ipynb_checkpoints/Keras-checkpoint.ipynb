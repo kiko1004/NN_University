{
 "cells": [
  {
   "cell_type": "code",
   "execution_count": 1,
   "id": "hollywood-arkansas",
   "metadata": {},
   "outputs": [
    {
     "name": "stderr",
     "output_type": "stream",
     "text": [
      "In C:\\ProgramData\\Anaconda3\\lib\\site-packages\\matplotlib\\mpl-data\\stylelib\\_classic_test.mplstyle: \n",
      "The text.latex.preview rcparam was deprecated in Matplotlib 3.3 and will be removed two minor releases later.\n",
      "In C:\\ProgramData\\Anaconda3\\lib\\site-packages\\matplotlib\\mpl-data\\stylelib\\_classic_test.mplstyle: \n",
      "The mathtext.fallback_to_cm rcparam was deprecated in Matplotlib 3.3 and will be removed two minor releases later.\n",
      "In C:\\ProgramData\\Anaconda3\\lib\\site-packages\\matplotlib\\mpl-data\\stylelib\\_classic_test.mplstyle: Support for setting the 'mathtext.fallback_to_cm' rcParam is deprecated since 3.3 and will be removed two minor releases later; use 'mathtext.fallback : 'cm' instead.\n",
      "In C:\\ProgramData\\Anaconda3\\lib\\site-packages\\matplotlib\\mpl-data\\stylelib\\_classic_test.mplstyle: \n",
      "The validate_bool_maybe_none function was deprecated in Matplotlib 3.3 and will be removed two minor releases later.\n",
      "In C:\\ProgramData\\Anaconda3\\lib\\site-packages\\matplotlib\\mpl-data\\stylelib\\_classic_test.mplstyle: \n",
      "The savefig.jpeg_quality rcparam was deprecated in Matplotlib 3.3 and will be removed two minor releases later.\n",
      "In C:\\ProgramData\\Anaconda3\\lib\\site-packages\\matplotlib\\mpl-data\\stylelib\\_classic_test.mplstyle: \n",
      "The keymap.all_axes rcparam was deprecated in Matplotlib 3.3 and will be removed two minor releases later.\n",
      "In C:\\ProgramData\\Anaconda3\\lib\\site-packages\\matplotlib\\mpl-data\\stylelib\\_classic_test.mplstyle: \n",
      "The animation.avconv_path rcparam was deprecated in Matplotlib 3.3 and will be removed two minor releases later.\n",
      "In C:\\ProgramData\\Anaconda3\\lib\\site-packages\\matplotlib\\mpl-data\\stylelib\\_classic_test.mplstyle: \n",
      "The animation.avconv_args rcparam was deprecated in Matplotlib 3.3 and will be removed two minor releases later.\n"
     ]
    }
   ],
   "source": [
    "import numpy as np\n",
    "import pandas as pd\n",
    "from keras.layers import Dense\n",
    "from keras.models import Sequential\n",
    "from keras.regularizers import l1\n",
    "#from keras.layers.normalization import BatchNormalization\n",
    "from tensorflow.keras.layers import BatchNormalization\n",
    "from keras import backend as K\n",
    "from sklearn.preprocessing import StandardScaler\n",
    "from sklearn.model_selection import train_test_split\n",
    "from scipy.stats import skew\n",
    "from scipy.stats.stats import pearsonr\n",
    "import matplotlib.pyplot as plt"
   ]
  },
  {
   "cell_type": "code",
   "execution_count": 2,
   "id": "owned-holmes",
   "metadata": {},
   "outputs": [],
   "source": [
    "all_data = pd.read_csv('house_prices.csv')"
   ]
  },
  {
   "cell_type": "code",
   "execution_count": 3,
   "id": "controlling-bedroom",
   "metadata": {},
   "outputs": [
    {
     "data": {
      "text/plain": [
       "Index(['MSZoning', 'Street', 'Alley', 'LotShape', 'LandContour', 'Utilities',\n",
       "       'LotConfig', 'LandSlope', 'Neighborhood', 'Condition1', 'Condition2',\n",
       "       'BldgType', 'HouseStyle', 'RoofStyle', 'RoofMatl', 'Exterior1st',\n",
       "       'Exterior2nd', 'MasVnrType', 'ExterQual', 'ExterCond', 'Foundation',\n",
       "       'BsmtQual', 'BsmtCond', 'BsmtExposure', 'BsmtFinType1', 'BsmtFinType2',\n",
       "       'Heating', 'HeatingQC', 'CentralAir', 'Electrical', 'KitchenQual',\n",
       "       'Functional', 'FireplaceQu', 'GarageType', 'GarageFinish', 'GarageQual',\n",
       "       'GarageCond', 'PavedDrive', 'PoolQC', 'Fence', 'MiscFeature',\n",
       "       'SaleType', 'SaleCondition'],\n",
       "      dtype='object')"
      ]
     },
     "execution_count": 3,
     "metadata": {},
     "output_type": "execute_result"
    }
   ],
   "source": [
    "cat_feats = all_data.dtypes[all_data.dtypes == \"object\"].index\n",
    "cat_feats"
   ]
  },
  {
   "cell_type": "code",
   "execution_count": 4,
   "id": "charged-happiness",
   "metadata": {},
   "outputs": [
    {
     "data": {
      "text/plain": [
       "Index(['Id', 'MSSubClass', 'LotFrontage', 'LotArea', 'OverallQual',\n",
       "       'OverallCond', 'YearBuilt', 'YearRemodAdd', 'MasVnrArea', 'BsmtFinSF1',\n",
       "       'BsmtFinSF2', 'BsmtUnfSF', 'TotalBsmtSF', '1stFlrSF', '2ndFlrSF',\n",
       "       'LowQualFinSF', 'GrLivArea', 'BsmtFullBath', 'BsmtHalfBath', 'FullBath',\n",
       "       'HalfBath', 'BedroomAbvGr', 'KitchenAbvGr', 'TotRmsAbvGrd',\n",
       "       'Fireplaces', 'GarageYrBlt', 'GarageCars', 'GarageArea', 'WoodDeckSF',\n",
       "       'OpenPorchSF', 'EnclosedPorch', '3SsnPorch', 'ScreenPorch', 'PoolArea',\n",
       "       'MiscVal', 'MoSold', 'YrSold', 'SalePrice'],\n",
       "      dtype='object')"
      ]
     },
     "execution_count": 4,
     "metadata": {},
     "output_type": "execute_result"
    }
   ],
   "source": [
    "numeric_feats = all_data.dtypes[all_data.dtypes != \"object\"].index\n",
    "numeric_feats"
   ]
  },
  {
   "cell_type": "code",
   "execution_count": 5,
   "id": "visible-senator",
   "metadata": {},
   "outputs": [],
   "source": [
    "ordinal_features = ['YrSold']"
   ]
  },
  {
   "cell_type": "code",
   "execution_count": 6,
   "id": "authentic-marsh",
   "metadata": {},
   "outputs": [
    {
     "name": "stdout",
     "output_type": "stream",
     "text": [
      "Index(['MSSubClass', 'LotFrontage', 'LotArea', 'MasVnrArea', 'BsmtFinSF1',\n",
      "       'BsmtFinSF2', 'BsmtUnfSF', 'TotalBsmtSF', '1stFlrSF', '2ndFlrSF',\n",
      "       'LowQualFinSF', 'GrLivArea', 'BsmtHalfBath', 'KitchenAbvGr',\n",
      "       'WoodDeckSF', 'OpenPorchSF', 'EnclosedPorch', '3SsnPorch',\n",
      "       'ScreenPorch', 'PoolArea', 'MiscVal', 'SalePrice'],\n",
      "      dtype='object')\n"
     ]
    }
   ],
   "source": [
    "skewed_feats = all_data[numeric_feats].apply(lambda x: skew(x.dropna())) #compute skewness\n",
    "skewed_feats = skewed_feats[skewed_feats > 0.75]\n",
    "skewed_feats = skewed_feats.index\n",
    "print(skewed_feats)\n",
    "\n",
    "all_data[skewed_feats] = np.log1p(all_data[skewed_feats])"
   ]
  },
  {
   "cell_type": "code",
   "execution_count": 7,
   "id": "pregnant-consultation",
   "metadata": {},
   "outputs": [],
   "source": [
    "#log transform the target:\n",
    "all_data[\"SalePrice\"] = np.log1p(all_data[\"SalePrice\"])"
   ]
  },
  {
   "cell_type": "code",
   "execution_count": 8,
   "id": "intense-routine",
   "metadata": {},
   "outputs": [],
   "source": [
    "all_data = pd.get_dummies(all_data)"
   ]
  },
  {
   "cell_type": "code",
   "execution_count": 9,
   "id": "linear-austin",
   "metadata": {},
   "outputs": [],
   "source": [
    "#filling NA's with the mean of the column:\n",
    "all_data = all_data.fillna(all_data.mean())"
   ]
  },
  {
   "cell_type": "code",
   "execution_count": 10,
   "id": "color-jamaica",
   "metadata": {},
   "outputs": [],
   "source": [
    "y = all_data.pop('SalePrice')\n",
    "ids = all_data.pop('Id')\n",
    "x = all_data"
   ]
  },
  {
   "cell_type": "code",
   "execution_count": 12,
   "id": "relative-economy",
   "metadata": {},
   "outputs": [
    {
     "data": {
      "text/plain": [
       "(1095, 288)"
      ]
     },
     "execution_count": 12,
     "metadata": {},
     "output_type": "execute_result"
    }
   ],
   "source": [
    "x = StandardScaler().fit_transform(x)\n",
    "X_tr, X_val, y_tr, y_val = train_test_split(x, y, random_state = 3)\n",
    "X_tr.shape"
   ]
  },
  {
   "cell_type": "code",
   "execution_count": 14,
   "id": "computational-orlando",
   "metadata": {},
   "outputs": [],
   "source": [
    "model = Sequential()\n",
    "BatchNormalization()\n",
    "model.add(Dense(1028,input_dim=288,activation='relu'))\n",
    "BatchNormalization()\n",
    "model.add(Dense(1028,input_dim=288,activation='relu'))\n",
    "BatchNormalization()\n",
    "#Dropout(0.2)\n",
    "model.add(Dense(100,input_dim=288,activation='relu'))\n",
    "BatchNormalization()\n",
    "#Dropout(0.2)\n",
    "model.add(Dense(50))\n",
    "BatchNormalization()\n",
    "model.add(Dense(1))\n",
    "model.compile(optimizer='adam',loss='mse',metrics=['accuracy'])"
   ]
  },
  {
   "cell_type": "code",
   "execution_count": 15,
   "id": "jewish-guard",
   "metadata": {},
   "outputs": [
    {
     "name": "stdout",
     "output_type": "stream",
     "text": [
      "Model: \"sequential\"\n",
      "_________________________________________________________________\n",
      " Layer (type)                Output Shape              Param #   \n",
      "=================================================================\n",
      " dense (Dense)               (None, 1028)              297092    \n",
      "                                                                 \n",
      " dense_1 (Dense)             (None, 1028)              1057812   \n",
      "                                                                 \n",
      " dense_2 (Dense)             (None, 100)               102900    \n",
      "                                                                 \n",
      " dense_3 (Dense)             (None, 50)                5050      \n",
      "                                                                 \n",
      " dense_4 (Dense)             (None, 1)                 51        \n",
      "                                                                 \n",
      "=================================================================\n",
      "Total params: 1,462,905\n",
      "Trainable params: 1,462,905\n",
      "Non-trainable params: 0\n",
      "_________________________________________________________________\n"
     ]
    }
   ],
   "source": [
    "model.summary()"
   ]
  },
  {
   "cell_type": "code",
   "execution_count": 17,
   "id": "complete-median",
   "metadata": {},
   "outputs": [
    {
     "name": "stdout",
     "output_type": "stream",
     "text": [
      "Epoch 1/50\n",
      "35/35 [==============================] - 2s 51ms/step - loss: 0.0770 - accuracy: 0.0000e+00 - val_loss: 0.0814 - val_accuracy: 0.0000e+00\n",
      "Epoch 2/50\n",
      "35/35 [==============================] - 2s 51ms/step - loss: 0.0332 - accuracy: 0.0000e+00 - val_loss: 0.0783 - val_accuracy: 0.0000e+00\n",
      "Epoch 3/50\n",
      "35/35 [==============================] - 1s 35ms/step - loss: 0.0128 - accuracy: 0.0000e+00 - val_loss: 0.0625 - val_accuracy: 0.0000e+00\n",
      "Epoch 4/50\n",
      "35/35 [==============================] - 1s 24ms/step - loss: 0.0070 - accuracy: 0.0000e+00 - val_loss: 0.0728 - val_accuracy: 0.0000e+00\n",
      "Epoch 5/50\n",
      "35/35 [==============================] - 1s 28ms/step - loss: 0.0064 - accuracy: 0.0000e+00 - val_loss: 0.0590 - val_accuracy: 0.0000e+00\n",
      "Epoch 6/50\n",
      "35/35 [==============================] - 1s 23ms/step - loss: 0.0075 - accuracy: 0.0000e+00 - val_loss: 0.0624 - val_accuracy: 0.0000e+00\n",
      "Epoch 7/50\n",
      "35/35 [==============================] - 1s 23ms/step - loss: 0.0098 - accuracy: 0.0000e+00 - val_loss: 0.0678 - val_accuracy: 0.0000e+00\n",
      "Epoch 8/50\n",
      "35/35 [==============================] - 1s 24ms/step - loss: 0.0115 - accuracy: 0.0000e+00 - val_loss: 0.0632 - val_accuracy: 0.0000e+00\n",
      "Epoch 9/50\n",
      "35/35 [==============================] - 1s 18ms/step - loss: 0.0118 - accuracy: 0.0000e+00 - val_loss: 0.0502 - val_accuracy: 0.0000e+00\n",
      "Epoch 10/50\n",
      "35/35 [==============================] - 1s 18ms/step - loss: 0.0110 - accuracy: 0.0000e+00 - val_loss: 0.0571 - val_accuracy: 0.0000e+00\n",
      "Epoch 11/50\n",
      "35/35 [==============================] - 1s 19ms/step - loss: 0.0086 - accuracy: 0.0000e+00 - val_loss: 0.0475 - val_accuracy: 0.0000e+00\n",
      "Epoch 12/50\n",
      "35/35 [==============================] - 1s 18ms/step - loss: 0.0072 - accuracy: 0.0000e+00 - val_loss: 0.0544 - val_accuracy: 0.0000e+00\n",
      "Epoch 13/50\n",
      "35/35 [==============================] - 1s 18ms/step - loss: 0.0054 - accuracy: 0.0000e+00 - val_loss: 0.0440 - val_accuracy: 0.0000e+00\n",
      "Epoch 14/50\n",
      "35/35 [==============================] - 1s 21ms/step - loss: 0.0063 - accuracy: 0.0000e+00 - val_loss: 0.0437 - val_accuracy: 0.0000e+00\n",
      "Epoch 15/50\n",
      "35/35 [==============================] - 1s 18ms/step - loss: 0.0048 - accuracy: 0.0000e+00 - val_loss: 0.0462 - val_accuracy: 0.0000e+00\n",
      "Epoch 16/50\n",
      "35/35 [==============================] - 1s 20ms/step - loss: 0.0038 - accuracy: 0.0000e+00 - val_loss: 0.0520 - val_accuracy: 0.0000e+00\n",
      "Epoch 17/50\n",
      "35/35 [==============================] - 1s 19ms/step - loss: 0.0037 - accuracy: 0.0000e+00 - val_loss: 0.0468 - val_accuracy: 0.0000e+00\n",
      "Epoch 18/50\n",
      "35/35 [==============================] - 1s 22ms/step - loss: 0.0032 - accuracy: 0.0000e+00 - val_loss: 0.0437 - val_accuracy: 0.0000e+00\n",
      "Epoch 19/50\n",
      "35/35 [==============================] - 1s 23ms/step - loss: 0.0037 - accuracy: 0.0000e+00 - val_loss: 0.0451 - val_accuracy: 0.0000e+00\n",
      "Epoch 20/50\n",
      "35/35 [==============================] - 1s 19ms/step - loss: 0.0035 - accuracy: 0.0000e+00 - val_loss: 0.0493 - val_accuracy: 0.0000e+00\n",
      "Epoch 21/50\n",
      "35/35 [==============================] - 1s 21ms/step - loss: 0.0029 - accuracy: 0.0000e+00 - val_loss: 0.0430 - val_accuracy: 0.0000e+00\n",
      "Epoch 22/50\n",
      "35/35 [==============================] - 1s 35ms/step - loss: 0.0022 - accuracy: 0.0000e+00 - val_loss: 0.0439 - val_accuracy: 0.0000e+00\n",
      "Epoch 23/50\n",
      "35/35 [==============================] - 1s 26ms/step - loss: 0.0029 - accuracy: 0.0000e+00 - val_loss: 0.0438 - val_accuracy: 0.0000e+00\n",
      "Epoch 24/50\n",
      "35/35 [==============================] - 1s 27ms/step - loss: 0.0031 - accuracy: 0.0000e+00 - val_loss: 0.0402 - val_accuracy: 0.0000e+00\n",
      "Epoch 25/50\n",
      "35/35 [==============================] - 1s 22ms/step - loss: 0.0036 - accuracy: 0.0000e+00 - val_loss: 0.0414 - val_accuracy: 0.0000e+00\n",
      "Epoch 26/50\n",
      "35/35 [==============================] - 1s 23ms/step - loss: 0.0037 - accuracy: 0.0000e+00 - val_loss: 0.0409 - val_accuracy: 0.0000e+00\n",
      "Epoch 27/50\n",
      "35/35 [==============================] - 1s 23ms/step - loss: 0.0035 - accuracy: 0.0000e+00 - val_loss: 0.0399 - val_accuracy: 0.0000e+00\n",
      "Epoch 28/50\n",
      "35/35 [==============================] - 1s 23ms/step - loss: 0.0039 - accuracy: 0.0000e+00 - val_loss: 0.0494 - val_accuracy: 0.0000e+00\n",
      "Epoch 29/50\n",
      "35/35 [==============================] - 1s 25ms/step - loss: 0.0086 - accuracy: 0.0000e+00 - val_loss: 0.0377 - val_accuracy: 0.0000e+00\n",
      "Epoch 30/50\n",
      "35/35 [==============================] - 1s 23ms/step - loss: 0.0081 - accuracy: 0.0000e+00 - val_loss: 0.0313 - val_accuracy: 0.0000e+00\n",
      "Epoch 31/50\n",
      "35/35 [==============================] - 1s 19ms/step - loss: 0.0098 - accuracy: 0.0000e+00 - val_loss: 0.0341 - val_accuracy: 0.0000e+00\n",
      "Epoch 32/50\n",
      "35/35 [==============================] - 1s 23ms/step - loss: 0.0099 - accuracy: 0.0000e+00 - val_loss: 0.0304 - val_accuracy: 0.0000e+00\n",
      "Epoch 33/50\n",
      "35/35 [==============================] - 1s 34ms/step - loss: 0.0079 - accuracy: 0.0000e+00 - val_loss: 0.0290 - val_accuracy: 0.0000e+00\n",
      "Epoch 34/50\n",
      "35/35 [==============================] - 1s 27ms/step - loss: 0.0056 - accuracy: 0.0000e+00 - val_loss: 0.0289 - val_accuracy: 0.0000e+00\n",
      "Epoch 35/50\n",
      "35/35 [==============================] - 1s 26ms/step - loss: 0.0046 - accuracy: 0.0000e+00 - val_loss: 0.0295 - val_accuracy: 0.0000e+00\n",
      "Epoch 36/50\n",
      "35/35 [==============================] - 1s 23ms/step - loss: 0.0033 - accuracy: 0.0000e+00 - val_loss: 0.0235 - val_accuracy: 0.0000e+00\n",
      "Epoch 37/50\n",
      "35/35 [==============================] - 1s 23ms/step - loss: 0.0026 - accuracy: 0.0000e+00 - val_loss: 0.0255 - val_accuracy: 0.0000e+00\n",
      "Epoch 38/50\n",
      "35/35 [==============================] - 1s 23ms/step - loss: 0.0027 - accuracy: 0.0000e+00 - val_loss: 0.0272 - val_accuracy: 0.0000e+00\n",
      "Epoch 39/50\n",
      "35/35 [==============================] - 1s 31ms/step - loss: 0.0024 - accuracy: 0.0000e+00 - val_loss: 0.0251 - val_accuracy: 0.0000e+00\n",
      "Epoch 40/50\n",
      "35/35 [==============================] - 1s 23ms/step - loss: 0.0018 - accuracy: 0.0000e+00 - val_loss: 0.0259 - val_accuracy: 0.0000e+00\n",
      "Epoch 41/50\n",
      "35/35 [==============================] - 1s 23ms/step - loss: 0.0017 - accuracy: 0.0000e+00 - val_loss: 0.0267 - val_accuracy: 0.0000e+00\n",
      "Epoch 42/50\n",
      "35/35 [==============================] - 1s 22ms/step - loss: 0.0032 - accuracy: 0.0000e+00 - val_loss: 0.0235 - val_accuracy: 0.0000e+00\n",
      "Epoch 43/50\n",
      "35/35 [==============================] - 1s 25ms/step - loss: 0.0033 - accuracy: 0.0000e+00 - val_loss: 0.0266 - val_accuracy: 0.0000e+00\n",
      "Epoch 44/50\n",
      "35/35 [==============================] - 1s 23ms/step - loss: 0.0029 - accuracy: 0.0000e+00 - val_loss: 0.0267 - val_accuracy: 0.0000e+00\n",
      "Epoch 45/50\n",
      "35/35 [==============================] - 1s 22ms/step - loss: 0.0051 - accuracy: 0.0000e+00 - val_loss: 0.0274 - val_accuracy: 0.0000e+00\n",
      "Epoch 46/50\n",
      "35/35 [==============================] - 1s 22ms/step - loss: 0.0054 - accuracy: 0.0000e+00 - val_loss: 0.0303 - val_accuracy: 0.0000e+00\n",
      "Epoch 47/50\n",
      "35/35 [==============================] - 1s 23ms/step - loss: 0.0103 - accuracy: 0.0000e+00 - val_loss: 0.0282 - val_accuracy: 0.0000e+00\n",
      "Epoch 48/50\n",
      "35/35 [==============================] - 1s 21ms/step - loss: 0.0076 - accuracy: 0.0000e+00 - val_loss: 0.0201 - val_accuracy: 0.0000e+00\n",
      "Epoch 49/50\n",
      "35/35 [==============================] - 1s 20ms/step - loss: 0.0068 - accuracy: 0.0000e+00 - val_loss: 0.0235 - val_accuracy: 0.0000e+00\n",
      "Epoch 50/50\n",
      "35/35 [==============================] - 1s 19ms/step - loss: 0.0050 - accuracy: 0.0000e+00 - val_loss: 0.0219 - val_accuracy: 0.0000e+00\n"
     ]
    }
   ],
   "source": [
    "hist = model.fit(X_tr, y_tr, validation_data = (X_val, y_val), epochs = 50)"
   ]
  },
  {
   "cell_type": "code",
   "execution_count": 18,
   "id": "handmade-bikini",
   "metadata": {},
   "outputs": [
    {
     "data": {
      "text/plain": [
       "array([0.14803807, 0.        ])"
      ]
     },
     "execution_count": 18,
     "metadata": {},
     "output_type": "execute_result"
    }
   ],
   "source": [
    "scores = np.sqrt(model.evaluate(X_val,y_val,verbose=0))\n",
    "scores"
   ]
  },
  {
   "cell_type": "code",
   "execution_count": 20,
   "id": "controlled-swift",
   "metadata": {},
   "outputs": [],
   "source": [
    "pred = model.predict(X_val)"
   ]
  },
  {
   "cell_type": "code",
   "execution_count": null,
   "id": "published-buddy",
   "metadata": {},
   "outputs": [],
   "source": [
    "plt.plot(y_val, label = 'Validation')\n",
    "plt.plot(pred, label = '')"
   ]
  }
 ],
 "metadata": {
  "kernelspec": {
   "display_name": "Python 3",
   "language": "python",
   "name": "python3"
  },
  "language_info": {
   "codemirror_mode": {
    "name": "ipython",
    "version": 3
   },
   "file_extension": ".py",
   "mimetype": "text/x-python",
   "name": "python",
   "nbconvert_exporter": "python",
   "pygments_lexer": "ipython3",
   "version": "3.8.3"
  }
 },
 "nbformat": 4,
 "nbformat_minor": 5
}
